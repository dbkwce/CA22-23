{
 "cells": [
  {
   "cell_type": "code",
   "execution_count": 1,
   "metadata": {},
   "outputs": [
    {
     "name": "stdout",
     "output_type": "stream",
     "text": [
      "Huffman Compression Program\n",
      "---------------------------------------------------\n",
      "Enetered string is: [[  0   1   0 ...   0   0   1]\n",
      " [  2  85 124 ... 101  68   0]\n",
      " [  0 120 176 ... 114  47   0]\n",
      " ...\n",
      " [  0  42  64 ...  64  43   0]\n",
      " [  1  29  43 ...  42  35   0]\n",
      " [  0   0   1 ...   0   1   0]]\n"
     ]
    }
   ],
   "source": [
    "import re\n",
    "import numpy as np\n",
    "from PIL import Image\n",
    "print(\"Huffman Compression Program\")\n",
    "print(\"---------------------------------------------------\")\n",
    "\n",
    "file = input(\"Enter the filename:\")\n",
    "my_string = np.asarray(Image.open(file),np.uint8)\n",
    "shape = my_string.shape\n",
    "a = my_string\n",
    "print (\"Enetered string is:\",my_string)\n",
    "my_string = str(my_string.tolist())\n"
   ]
  },
  {
   "cell_type": "code",
   "execution_count": 2,
   "metadata": {},
   "outputs": [],
   "source": [
    "letters = []\n",
    "only_letters = []\n",
    "for letter in my_string:\n",
    "    if letter not in letters:\n",
    "        frequency = my_string.count(letter)             #frequency of each letter repetition\n",
    "        letters.append(frequency)\n",
    "        letters.append(letter)\n",
    "        only_letters.append(letter)"
   ]
  },
  {
   "cell_type": "code",
   "execution_count": 3,
   "metadata": {},
   "outputs": [],
   "source": [
    "nodes = []\n",
    "while len(letters) > 0:\n",
    "    nodes.append(letters[0:2])\n",
    "    letters = letters[2:]                               # sorting according to frequency\n",
    "nodes.sort()\n",
    "huffman_tree = []\n",
    "huffman_tree.append(nodes)                             #Make each unique character as a leaf node"
   ]
  },
  {
   "cell_type": "code",
   "execution_count": 4,
   "metadata": {},
   "outputs": [],
   "source": [
    "def combine_nodes(nodes):\n",
    "    pos = 0\n",
    "    newnode = []\n",
    "    if len(nodes) > 1:\n",
    "        nodes.sort()\n",
    "        nodes[pos].append(\"1\")                       # assigning values 1 and 0\n",
    "        nodes[pos+1].append(\"0\")\n",
    "        combined_node1 = (nodes[pos] [0] + nodes[pos+1] [0])\n",
    "        combined_node2 = (nodes[pos] [1] + nodes[pos+1] [1])  # combining the nodes to generate pathways\n",
    "        newnode.append(combined_node1)\n",
    "        newnode.append(combined_node2)\n",
    "        newnodes=[]\n",
    "        newnodes.append(newnode)\n",
    "        newnodes = newnodes + nodes[2:]\n",
    "        nodes = newnodes\n",
    "        huffman_tree.append(nodes)\n",
    "        combine_nodes(nodes)\n",
    "    return huffman_tree                                     # huffman tree generation"
   ]
  },
  {
   "cell_type": "code",
   "execution_count": 5,
   "metadata": {},
   "outputs": [
    {
     "name": "stdout",
     "output_type": "stream",
     "text": [
      "Huffman tree with merged pathways:\n",
      "Level 0 : [[76049, ' ,425[]8317960']]\n",
      "Level 1 : [[32766, ' ,', '1'], [43283, '425[]8317960', '0']]\n",
      "Level 2 : [[17793, '425[]83', '1'], [25490, '17960', '0']]\n",
      "Level 3 : [[16383, ' ', '1'], [16383, ',', '0'], [25490, '17960', '0']]\n",
      "Level 4 : [[12677, '1', '1'], [12813, '7960', '0'], [16383, ',', '0']]\n",
      "Level 5 : [[7915, '42', '1'], [9878, '5[]83', '0'], [12813, '7960', '0'], [16383, ',', '0']]\n",
      "Level 6 : [[6139, '79', '1'], [6674, '60', '0'], [9878, '5[]83', '0'], [16383, ' ', '1']]\n",
      "Level 7 : [[4069, '5', '1'], [5809, '[]83', '0'], [6674, '60', '0'], [12677, '1', '1'], [16383, ',', '0']]\n",
      "Level 8 : [[3950, '4', '1'], [3965, '2', '0'], [5809, '[]83', '0'], [6674, '60', '0'], [16383, ' ', '1']]\n",
      "Level 9 : [[3141, '6', '1'], [3533, '0', '0'], [3965, '2', '0'], [5809, '[]83', '0'], [12677, '1', '1'], [16383, ',', '0']]\n",
      "Level 10 : [[3021, '7', '1'], [3118, '9', '0'], [3533, '0', '0'], [3965, '2', '0'], [5809, '[]83', '0'], [16383, ' ', '1']]\n",
      "Level 11 : [[2810, '[]8', '1'], [2999, '3', '0'], [3118, '9', '0'], [3533, '0', '0'], [3965, '2', '0'], [12677, '1', '1'], [16383, ',', '0']]\n",
      "Level 12 : [[258, '[]', '1'], [2552, '8', '0'], [3021, '7', '1'], [3141, '6', '1'], [3950, '4', '1'], [4069, '5', '1'], [16383, ' ', '1']]\n",
      "Level 13 : [[129, '[', '1'], [129, ']', '0'], [2999, '3', '0'], [3118, '9', '0'], [3533, '0', '0'], [3965, '2', '0'], [12677, '1', '1'], [16383, ',', '0']]\n",
      "\n"
     ]
    }
   ],
   "source": [
    "newnodes = combine_nodes(nodes)\n",
    "\n",
    "huffman_tree.sort(reverse = True)\n",
    "print(\"Huffman tree with merged pathways:\")\n",
    "\n",
    "checklist = []\n",
    "for level in huffman_tree:\n",
    "    for node in level:\n",
    "        if node not in checklist:\n",
    "            checklist.append(node)\n",
    "        else:\n",
    "            level.remove(node)\n",
    "count = 0\n",
    "for level in huffman_tree:\n",
    "    print(\"Level\", count,\":\",level)             #print huffman tree\n",
    "    count+=1\n",
    "print()"
   ]
  },
  {
   "cell_type": "code",
   "execution_count": 6,
   "metadata": {},
   "outputs": [
    {
     "name": "stdout",
     "output_type": "stream",
     "text": [
      "[['[', '0100111'], ['0', '00000'], [',', '10'], [' ', '11'], ['1', '001'], ['4', '0111'], ['2', '0110'], ['5', '0101'], [']', '0100110'], ['8', '010010'], ['3', '01000'], ['7', '00011'], ['6', '00001'], ['9', '00010']]\n",
      "Binary code generated:\n",
      "[ 0100111\n",
      "0 00000\n",
      ", 10\n",
      "  11\n",
      "1 001\n",
      "4 0111\n",
      "2 0110\n",
      "5 0101\n",
      "] 0100110\n",
      "8 010010\n",
      "3 01000\n",
      "7 00011\n",
      "6 00001\n",
      "9 00010\n"
     ]
    }
   ],
   "source": [
    "letter_binary = []\n",
    "if len(only_letters) == 1:\n",
    "    lettercode = [only_letters[0], \"0\"]\n",
    "    letter_binary.append(letter_code*len(my_string))\n",
    "else:\n",
    "    for letter in only_letters:\n",
    "        code =\"\"\n",
    "        for node in checklist:\n",
    "            if len (node)>2 and letter in node[1]:           #genrating binary code\n",
    "                code = code + node[2]\n",
    "        lettercode =[letter,code]\n",
    "        letter_binary.append(lettercode)\n",
    "print(letter_binary)\n",
    "print(\"Binary code generated:\")\n",
    "for letter in letter_binary:\n",
    "    print(letter[0], letter[1])"
   ]
  },
  {
   "cell_type": "code",
   "execution_count": 7,
   "metadata": {},
   "outputs": [
    {
     "name": "stdout",
     "output_type": "stream",
     "text": [
      "Your message as binary is:\n"
     ]
    }
   ],
   "source": [
    "bitstring =\"\"\n",
    "for character in my_string:\n",
    "    for item in letter_binary:\n",
    "        if character in item:\n",
    "            bitstring = bitstring + item[1]\n",
    "binary =\"0b\"+bitstring\n",
    "print(\"Your message as binary is:\")"
   ]
  },
  {
   "cell_type": "code",
   "execution_count": 8,
   "metadata": {},
   "outputs": [
    {
     "name": "stdout",
     "output_type": "stream",
     "text": [
      "Your message as binary is:\n",
      "Your original file size was 532343 bits. The compressed size is: 247677\n",
      "This is a saving of  284666 bits\n",
      "Compressed file generated as compressed.txt\n",
      "Decoding.......\n"
     ]
    },
    {
     "data": {
      "text/plain": [
       "247677"
      ]
     },
     "execution_count": 8,
     "metadata": {},
     "output_type": "execute_result"
    }
   ],
   "source": [
    "\n",
    "bitstring =\"\"\n",
    "for character in my_string:\n",
    "    for item in letter_binary:\n",
    "        if character in item:\n",
    "            bitstring = bitstring + item[1]\n",
    "binary =\"0b\"+bitstring\n",
    "print(\"Your message as binary is:\")\n",
    "                                        # binary code generated\n",
    "\n",
    "uncompressed_file_size = len(my_string)*7\n",
    "compressed_file_size = len(binary)-2\n",
    "print(\"Your original file size was\", uncompressed_file_size,\"bits. The compressed size is:\",compressed_file_size)\n",
    "print(\"This is a saving of \",uncompressed_file_size-compressed_file_size,\"bits\")\n",
    "output = open(\"compressed.txt\",\"w+\")\n",
    "print(\"Compressed file generated as compressed.txt\")\n",
    "output = open(\"compressed.txt\",\"w+\")\n",
    "print(\"Decoding.......\")\n",
    "output.write(bitstring)"
   ]
  },
  {
   "cell_type": "code",
   "execution_count": 9,
   "metadata": {},
   "outputs": [],
   "source": [
    "\n",
    "bitstring = str(binary[2:])\n",
    "uncompressed_string =\"\"\n",
    "code =\"\"\n",
    "for digit in bitstring:\n",
    "    code = code+digit\n",
    "    pos=0                                        #iterating and decoding\n",
    "    for letter in letter_binary:\n",
    "        if code ==letter[1]:\n",
    "            uncompressed_string=uncompressed_string+letter_binary[pos] [0]\n",
    "            code=\"\"\n",
    "        pos+=1"
   ]
  },
  {
   "cell_type": "code",
   "execution_count": 10,
   "metadata": {},
   "outputs": [
    {
     "name": "stdout",
     "output_type": "stream",
     "text": [
      "Your UNCOMPRESSED data is:\n",
      "[[  0   1   0 ...   0   0   1]\n",
      " [  2  85 124 ... 101  68   0]\n",
      " [  0 120 176 ... 114  47   0]\n",
      " ...\n",
      " [  0  42  64 ...  64  43   0]\n",
      " [  1  29  43 ...  42  35   0]\n",
      " [  0   0   1 ...   0   1   0]]\n",
      "Observe the shapes and input and output arrays are matching or not\n",
      "Input image dimensions: (128, 128)\n",
      "Output image dimensions: (128, 128)\n",
      "Success\n"
     ]
    }
   ],
   "source": [
    "print(\"Your UNCOMPRESSED data is:\")\n",
    "\n",
    "temp = re.findall(r'\\d+', uncompressed_string)\n",
    "res = list(map(int, temp))\n",
    "res = np.array(res)\n",
    "res = res.astype(np.uint8)\n",
    "res = np.reshape(res, shape)\n",
    "print(res)\n",
    "print(\"Observe the shapes and input and output arrays are matching or not\")\n",
    "print(\"Input image dimensions:\",shape)\n",
    "print(\"Output image dimensions:\",res.shape)\n",
    "data = Image.fromarray(res)\n",
    "data.save('huffman_compressed.png')\n",
    "if a.all() == res.all():\n",
    "    print(\"Success\")"
   ]
  }
 ],
 "metadata": {
  "kernelspec": {
   "display_name": "Python 3.10.4 64-bit",
   "language": "python",
   "name": "python3"
  },
  "language_info": {
   "codemirror_mode": {
    "name": "ipython",
    "version": 3
   },
   "file_extension": ".py",
   "mimetype": "text/x-python",
   "name": "python",
   "nbconvert_exporter": "python",
   "pygments_lexer": "ipython3",
   "version": "3.10.4"
  },
  "orig_nbformat": 4,
  "vscode": {
   "interpreter": {
    "hash": "b7de24b07e89dec888d66cf005a8cc64e879152fc4182ac005b9a69294391971"
   }
  }
 },
 "nbformat": 4,
 "nbformat_minor": 2
}

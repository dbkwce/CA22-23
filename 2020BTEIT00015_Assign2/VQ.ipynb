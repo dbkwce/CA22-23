{
 "cells": [
  {
   "cell_type": "code",
   "execution_count": null,
   "metadata": {},
   "outputs": [],
   "source": [
    "import cv2\n",
    "import matplotlib.pyplot as plt\n",
    "\n",
    "%matplotlib inline\n",
    "\n",
    "print('Vector Quantization')\n",
    "print('--------------------------------')\n",
    "\n",
    "file=input(\"Enter file name: D:\\2020BTEIT00015_Assign2\\2020BTEIT00015_Assign2\")\n",
    "\n",
    "img = cv2.imread(file, cv2.IMREAD_GRAYSCALE)\n",
    "img = cv2.resize(img, (128, 128))\n",
    "print(img.shape)\n",
    "plt.imshow(img, cmap='gray')\n",
    "cv2.imwrite('img2.jpg',img)"
   ]
  },
  {
   "cell_type": "code",
   "execution_count": null,
   "metadata": {},
   "outputs": [],
   "source": [
    "%time cb, cb_abs_w, cb_rel_w = lbg.generate_codebook(train_X, 64)"
   ]
  }
 ],
 "metadata": {
  "kernelspec": {
   "display_name": "Python 3.10.1 64-bit",
   "language": "python",
   "name": "python3"
  },
  "language_info": {
   "codemirror_mode": {
    "name": "ipython",
    "version": 3
   },
   "file_extension": ".py",
   "mimetype": "text/x-python",
   "name": "python",
   "nbconvert_exporter": "python",
   "pygments_lexer": "ipython3",
   "version": "3.10.1"
  },
  "vscode": {
   "interpreter": {
    "hash": "000d8d7b3edf292513c9596d5d39d7d8b60aec6f45dd1b175f6421bc8612a00c"
   }
  }
 },
 "nbformat": 4,
 "nbformat_minor": 2
}

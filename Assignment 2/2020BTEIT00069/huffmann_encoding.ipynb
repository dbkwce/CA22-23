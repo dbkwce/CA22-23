{
 "cells": [
  {
   "cell_type": "markdown",
   "metadata": {},
   "source": [
    "Name: Nidhish Chauhan <br>\n",
    "PRN: 2020BTEIT00069 <br>\n",
    "Assignment 2 CA"
   ]
  },
  {
   "cell_type": "code",
   "execution_count": 21,
   "metadata": {},
   "outputs": [
    {
     "name": "stdout",
     "output_type": "stream",
     "text": [
      "Huffman Compression Program\n",
      "---------------------------------------------------\n",
      "Entered string is: [[  0   1   0 ...   0   0   1]\n",
      " [  2  85 124 ... 101  68   0]\n",
      " [  0 120 176 ... 114  47   0]\n",
      " ...\n",
      " [  0  42  64 ...  64  43   0]\n",
      " [  1  29  43 ...  42  35   0]\n",
      " [  0   0   1 ...   0   1   0]]\n"
     ]
    }
   ],
   "source": [
    "import re\n",
    "import numpy as np\n",
    "from PIL import Image\n",
    "print(\"Huffman Compression Program\")\n",
    "print(\"---------------------------------------------------\")\n",
    "\n",
    "file = input(\"Enter the filename:\")\n",
    "my_string = np.asarray(Image.open(file),np.uint8)\n",
    "shape = my_string.shape\n",
    "a = my_string\n",
    "print (\"Entered string is:\",my_string)\n",
    "my_string = str(my_string.tolist())\n"
   ]
  },
  {
   "cell_type": "code",
   "execution_count": 22,
   "metadata": {},
   "outputs": [],
   "source": [
    "letters = []\n",
    "only_letters = []\n",
    "for letter in my_string:\n",
    "    if letter not in letters:\n",
    "        frequency = my_string.count(letter)            \n",
    "        letters.append(frequency)\n",
    "        letters.append(letter)\n",
    "        only_letters.append(letter)"
   ]
  },
  {
   "cell_type": "code",
   "execution_count": 23,
   "metadata": {},
   "outputs": [],
   "source": [
    "nodes = []\n",
    "while len(letters) > 0:\n",
    "    nodes.append(letters[0:2])\n",
    "    letters = letters[2:]                               \n",
    "nodes.sort()\n",
    "huffman_tree = []\n",
    "huffman_tree.append(nodes)                            "
   ]
  },
  {
   "cell_type": "code",
   "execution_count": 24,
   "metadata": {},
   "outputs": [],
   "source": [
    "def combine_nodes(nodes):\n",
    "    pos = 0\n",
    "    newnode = []\n",
    "    if len(nodes) > 1:\n",
    "        nodes.sort()\n",
    "        nodes[pos].append(\"1\")                       \n",
    "        nodes[pos+1].append(\"0\")\n",
    "        combined_node1 = (nodes[pos] [0] + nodes[pos+1] [0])\n",
    "        combined_node2 = (nodes[pos] [1] + nodes[pos+1] [1])  \n",
    "        newnode.append(combined_node1)\n",
    "        newnode.append(combined_node2)\n",
    "        newnodes=[]\n",
    "        newnodes.append(newnode)\n",
    "        newnodes = newnodes + nodes[2:]\n",
    "        nodes = newnodes\n",
    "        huffman_tree.append(nodes)\n",
    "        combine_nodes(nodes)\n",
    "    return huffman_tree                                   "
   ]
  },
  {
   "cell_type": "code",
   "execution_count": 25,
   "metadata": {},
   "outputs": [],
   "source": [
    "newnodes = combine_nodes(nodes)\n",
    "\n",
    "huffman_tree.sort(reverse = True)\n",
    "\n",
    "\n",
    "checklist = []\n",
    "for level in huffman_tree:\n",
    "    for node in level:\n",
    "        if node not in checklist:\n",
    "            checklist.append(node)\n",
    "        else:\n",
    "            level.remove(node)\n"
   ]
  },
  {
   "cell_type": "code",
   "execution_count": 26,
   "metadata": {},
   "outputs": [],
   "source": [
    "letter_binary = []\n",
    "if len(only_letters) == 1:\n",
    "    lettercode = [only_letters[0], \"0\"]\n",
    "    letter_binary.append(letter_code*len(my_string))\n",
    "else:\n",
    "    for letter in only_letters:\n",
    "        code =\"\"\n",
    "        for node in checklist:\n",
    "            if len (node)>2 and letter in node[1]:          \n",
    "                code = code + node[2]\n",
    "        lettercode =[letter,code]\n",
    "        letter_binary.append(lettercode)\n",
    "\n"
   ]
  },
  {
   "cell_type": "code",
   "execution_count": 27,
   "metadata": {},
   "outputs": [],
   "source": [
    "bitstring =\"\"\n",
    "for character in my_string:\n",
    "    for item in letter_binary:\n",
    "        if character in item:\n",
    "            bitstring = bitstring + item[1]\n",
    "binary =\"0b\"+bitstring\n"
   ]
  },
  {
   "cell_type": "code",
   "execution_count": 28,
   "metadata": {},
   "outputs": [],
   "source": [
    "\n",
    "bitstring =\"\"\n",
    "for character in my_string:\n",
    "    for item in letter_binary:\n",
    "        if character in item:\n",
    "            bitstring = bitstring + item[1]\n",
    "binary =\"0b\"+bitstring\n",
    "\n",
    "                                        \n",
    "\n",
    "uncompressed_file_size = len(my_string)*7\n",
    "compressed_file_size = len(binary)-2\n"
   ]
  },
  {
   "cell_type": "code",
   "execution_count": 29,
   "metadata": {},
   "outputs": [],
   "source": [
    "\n",
    "bitstring = str(binary[2:])\n",
    "uncompressed_string =\"\"\n",
    "code =\"\"\n",
    "for digit in bitstring:\n",
    "    code = code+digit\n",
    "    pos=0                                        \n",
    "    for letter in letter_binary:\n",
    "        if code ==letter[1]:\n",
    "            uncompressed_string=uncompressed_string+letter_binary[pos] [0]\n",
    "            code=\"\"\n",
    "        pos+=1"
   ]
  },
  {
   "cell_type": "code",
   "execution_count": 30,
   "metadata": {},
   "outputs": [
    {
     "name": "stdout",
     "output_type": "stream",
     "text": [
      "[[  0   1   0 ...   0   0   1]\n",
      " [  2  85 124 ... 101  68   0]\n",
      " [  0 120 176 ... 114  47   0]\n",
      " ...\n",
      " [  0  42  64 ...  64  43   0]\n",
      " [  1  29  43 ...  42  35   0]\n",
      " [  0   0   1 ...   0   1   0]]\n",
      "Success\n"
     ]
    }
   ],
   "source": [
    "\n",
    "\n",
    "temp = re.findall(r'\\d+', uncompressed_string)\n",
    "res = list(map(int, temp))\n",
    "res = np.array(res)\n",
    "res = res.astype(np.uint8)\n",
    "res = np.reshape(res, shape)\n",
    "print(res)\n",
    "data = Image.fromarray(res)\n",
    "data.save('huffman_compressed.png')\n",
    "if a.all() == res.all():\n",
    "    print(\"Success\")"
   ]
  }
 ],
 "metadata": {
  "kernelspec": {
   "display_name": "Python 3.10.4 64-bit",
   "language": "python",
   "name": "python3"
  },
  "language_info": {
   "codemirror_mode": {
    "name": "ipython",
    "version": 3
   },
   "file_extension": ".py",
   "mimetype": "text/x-python",
   "name": "python",
   "nbconvert_exporter": "python",
   "pygments_lexer": "ipython3",
   "version": "3.10.4"
  },
  "orig_nbformat": 4,
  "vscode": {
   "interpreter": {
    "hash": "b7de24b07e89dec888d66cf005a8cc64e879152fc4182ac005b9a69294391971"
   }
  }
 },
 "nbformat": 4,
 "nbformat_minor": 2
}
